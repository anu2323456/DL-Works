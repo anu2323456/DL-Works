{
 "cells": [
  {
   "cell_type": "code",
   "execution_count": 20,
   "metadata": {},
   "outputs": [],
   "source": [
    "import cv2\n",
    "import re"
   ]
  },
  {
   "cell_type": "code",
   "execution_count": 21,
   "metadata": {},
   "outputs": [],
   "source": [
    "import pytesseract\n",
    "from datetime import date"
   ]
  },
  {
   "cell_type": "code",
   "execution_count": 22,
   "metadata": {},
   "outputs": [
    {
     "data": {
      "text/plain": [
       "3"
      ]
     },
     "execution_count": 22,
     "metadata": {},
     "output_type": "execute_result"
    }
   ],
   "source": [
    "p=os.listdir(r'C:\\Users\\Basil Alias\\Documents\\Computer vision\\Adhar Card Project\\pics')\n",
    "len(p)"
   ]
  },
  {
   "cell_type": "code",
   "execution_count": 23,
   "metadata": {},
   "outputs": [
    {
     "name": "stdout",
     "output_type": "stream",
     "text": [
      "C:\\Users\\Basil Alias\\Documents\\Computer vision\\Adhar Card Project\\pics\\adharcard1.jpg\n",
      "C:\\Users\\Basil Alias\\Documents\\Computer vision\\Adhar Card Project\\pics\\main-qimg-2e2fb70d29d60a37f1bbc9531152015e-lq.jpg\n",
      "C:\\Users\\Basil Alias\\Documents\\Computer vision\\Adhar Card Project\\pics\\sampl2.jpg\n",
      "['C:\\\\Users\\\\Basil Alias\\\\Documents\\\\Computer vision\\\\Adhar Card Project\\\\pics\\\\adharcard1.jpg', 'C:\\\\Users\\\\Basil Alias\\\\Documents\\\\Computer vision\\\\Adhar Card Project\\\\pics\\\\main-qimg-2e2fb70d29d60a37f1bbc9531152015e-lq.jpg', 'C:\\\\Users\\\\Basil Alias\\\\Documents\\\\Computer vision\\\\Adhar Card Project\\\\pics\\\\sampl2.jpg']\n"
     ]
    }
   ],
   "source": [
    "a=[]\n",
    "for i in p:\n",
    "    imgpath=os.path.join(r'C:\\Users\\Basil Alias\\Documents\\Computer vision\\Adhar Card Project\\pics',i)\n",
    "    print(imgpath)\n",
    "    a.append(imgpath)\n",
    "print(a)   "
   ]
  },
  {
   "cell_type": "code",
   "execution_count": 24,
   "metadata": {},
   "outputs": [],
   "source": [
    "pytesseract.pytesseract.tesseract_cmd=r'C:\\Program Files\\Tesseract-OCR\\tesseract.exe'"
   ]
  },
  {
   "cell_type": "code",
   "execution_count": 25,
   "metadata": {},
   "outputs": [],
   "source": [
    "day=0\n",
    "month=0\n",
    "year=0"
   ]
  },
  {
   "cell_type": "code",
   "execution_count": 26,
   "metadata": {},
   "outputs": [],
   "source": [
    "def age_finder(test):\n",
    "    lst=[]\n",
    "    s=\"\"\n",
    "    test.strip()\n",
    "\n",
    "    a=test.split(' ')\n",
    "    result=[]\n",
    "    for i in a:\n",
    "       if i.isdigit()==False:\n",
    "        result.append(i)\n",
    "    dob=[]\n",
    "    for i in result:\n",
    "       l=re.findall('[0-9][0-9]/[0-9]+/[0-9]+',i)\n",
    "       if len(l)!=0:\n",
    "        print(l)\n",
    "        s=''\n",
    "        s+=''.join(l)\n",
    "        s=s.split('/')\n",
    "    day=int(s[0])\n",
    "    month=int(s[1])\n",
    "    year=int(s[2])\n",
    "    day=day\n",
    "    month=month\n",
    "    year=year\n",
    "    print('day is',day)\n",
    "    print('month is',month)\n",
    "    print('year is',year)\n",
    "    lst.append(year)\n",
    "    lst.append(month)\n",
    "    lst.append(day)\n",
    "   \n",
    "    return lst\n"
   ]
  },
  {
   "cell_type": "code",
   "execution_count": 27,
   "metadata": {},
   "outputs": [],
   "source": [
    "from datetime import date\n",
    " \n",
    "def calculateAge(birthDate):\n",
    "    today = date.today()\n",
    "    age = today.year - birthDate.year -((today.month, today.day) <\n",
    "         (birthDate.month, birthDate.day))\n",
    " \n",
    "    return age"
   ]
  },
  {
   "cell_type": "code",
   "execution_count": null,
   "metadata": {},
   "outputs": [],
   "source": []
  },
  {
   "cell_type": "code",
   "execution_count": 28,
   "metadata": {},
   "outputs": [
    {
     "name": "stdout",
     "output_type": "stream",
     "text": [
      "['17/06/1995']\n",
      "day is 17\n",
      "month is 6\n",
      "year is 1995\n",
      "[1995, 6, 17]\n",
      "<class 'datetime.date'>\n",
      "0\n",
      "0\n",
      "27 years\n",
      "**************************\n",
      "Eligible\n",
      "***********\n",
      "['01/01/1998']\n",
      "day is 1\n",
      "month is 1\n",
      "year is 1998\n",
      "[1998, 1, 1]\n",
      "<class 'datetime.date'>\n",
      "0\n",
      "0\n",
      "25 years\n",
      "**************************\n",
      "not eligible\n",
      "['10/10/1989']\n",
      "day is 10\n",
      "month is 10\n",
      "year is 1989\n",
      "[1989, 10, 10]\n",
      "<class 'datetime.date'>\n",
      "0\n",
      "0\n",
      "33 years\n",
      "**************************\n",
      "Eligible\n",
      "***********\n"
     ]
    }
   ],
   "source": [
    "images=[]\n",
    "for i in a:\n",
    "    img=cv2.imread(i)\n",
    "    cv2.imshow('image',img)\n",
    "    cv2.waitKey()\n",
    "    cv2.destroyAllWindows()\n",
    "    images.append(img)\n",
    "\n",
    "\n",
    "for i in range(0,3):\n",
    "\n",
    "   test=pytesseract.image_to_string(images[i])\n",
    "   lst=age_finder(test)\n",
    "   print(lst)\n",
    "   print(date)\n",
    "   print(year)\n",
    "   print(month)\n",
    "   \n",
    "   \n",
    "\n",
    "   age=calculateAge(date(lst[0],lst[1],lst[2]))\n",
    "\n",
    "   print(age,\"years\")\n",
    "   print('**************************')\n",
    "\n",
    "   if  age>25:\n",
    "    print('Eligible')\n",
    "    print('***********')\n",
    "   else:\n",
    "    print('not eligible')\n",
    "\n",
    "\n",
    "   \n",
    "   \n",
    "    "
   ]
  },
  {
   "cell_type": "code",
   "execution_count": null,
   "metadata": {},
   "outputs": [],
   "source": []
  },
  {
   "cell_type": "code",
   "execution_count": null,
   "metadata": {},
   "outputs": [],
   "source": []
  },
  {
   "cell_type": "code",
   "execution_count": null,
   "metadata": {},
   "outputs": [],
   "source": []
  }
 ],
 "metadata": {
  "kernelspec": {
   "display_name": "Python 3",
   "language": "python",
   "name": "python3"
  },
  "language_info": {
   "codemirror_mode": {
    "name": "ipython",
    "version": 3
   },
   "file_extension": ".py",
   "mimetype": "text/x-python",
   "name": "python",
   "nbconvert_exporter": "python",
   "pygments_lexer": "ipython3",
   "version": "3.11.0 (main, Oct 24 2022, 18:26:48) [MSC v.1933 64 bit (AMD64)]"
  },
  "orig_nbformat": 4,
  "vscode": {
   "interpreter": {
    "hash": "eab45172792bab42c8089122c540bb22da4622bab0f19963460b1693becc1625"
   }
  }
 },
 "nbformat": 4,
 "nbformat_minor": 2
}
